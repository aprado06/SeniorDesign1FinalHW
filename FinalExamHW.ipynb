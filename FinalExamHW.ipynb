{
 "cells": [
  {
   "cell_type": "markdown",
   "metadata": {},
   "source": [
    "# MULTIPLE CHOICE"
   ]
  },
  {
   "cell_type": "markdown",
   "metadata": {},
   "source": [
    "Q1. Which one of the following statements is true about means and medians?  \n",
    "a) An outlier can significantly affect the value of both the mean and the median  \n",
    "b) The mean and median are equal if there is an odd number of data points   \n",
    "c) An outlier can significantly affect the value of the mean, but not the median  \n",
    "d) Means and medians are in generalboth robust to to sigle outliers  \n",
    "\n",
    "The answer is c"
   ]
  },
  {
   "cell_type": "markdown",
   "metadata": {},
   "source": [
    "Q2. How might we expect coin flip to be distributed?  \n",
    "a) Poisson  \n",
    "b) Uniform  \n",
    "c) Normal  \n",
    "d) Binomial\n",
    "\n",
    "The answer is d"
   ]
  },
  {
   "cell_type": "markdown",
   "metadata": {},
   "source": [
    "Q3. How are the weights that determine the features/interactions in Neural Networks created?  \n",
    "a) The model training process sets them to optimize predictive accuracy  \n",
    "b) The weights are random   \n",
    "c) The user creates them  \n",
    "d) None of the above  \n",
    "\n",
    "The answer is a"
   ]
  },
  {
   "cell_type": "markdown",
   "metadata": {},
   "source": [
    "Q4. Which activation function is zero centered?  \n",
    "a) Relu  \n",
    "b) Hyperbolic tanget function  \n",
    "c) Sigmoid  \n",
    "d) None of the above  \n",
    "\n",
    "The answer is b"
   ]
  },
  {
   "cell_type": "markdown",
   "metadata": {
    "collapsed": true
   },
   "source": [
    "Q5. Which of the following are possible features for a text classification problem?  \n",
    "a) Number of words in a document  \n",
    "b) Specific name entities  \n",
    "c) a and b  \n",
    "d) None of the above  \n",
    "\n",
    "The answer is c"
   ]
  },
  {
   "cell_type": "markdown",
   "metadata": {},
   "source": [
    "Q6. Which of the two (SIFT or CNN ) provides a more human like process at image processing but needs more time and data?  \n",
    "a) SIFT  \n",
    "b) CNN  \n",
    "c) Both are the same  \n",
    "d) Both are not used for image processing\n",
    "\n",
    "The answer is b"
   ]
  },
  {
   "cell_type": "markdown",
   "metadata": {},
   "source": [
    "Q7. What possible steps can you take to improve a classification model?  \n",
    "a) Training on a larger dataset  \n",
    "b) Tweaking alpha values  \n",
    "c) Tring a new classification model  \n",
    "d) All of the above  \n",
    "\n",
    "The answer is d"
   ]
  },
  {
   "cell_type": "markdown",
   "metadata": {},
   "source": [
    "Q8. Which of the following could prevent a model from showing an improved loss in its first few epochs?\n",
    "a) Learning rate is too high  \n",
    "b) Poor choice of activation function  \n",
    "c) Learning rate is too slow  \n",
    "d) All of the above  \n",
    "\n",
    "The answer is d"
   ]
  },
  {
   "cell_type": "markdown",
   "metadata": {},
   "source": [
    "# TRUE OR FALSE"
   ]
  },
  {
   "cell_type": "markdown",
   "metadata": {},
   "source": [
    "Q1. Does numpy array do upcasting?  \n",
    "( ) True  \n",
    "( ) False  \n",
    "\n",
    "The answer is true"
   ]
  },
  {
   "cell_type": "markdown",
   "metadata": {},
   "source": [
    "Q2. SciPy is not used for scientific computing and technical computing  \n",
    "( ) True  \n",
    "( ) False  \n",
    "\n",
    "The answer is false"
   ]
  },
  {
   "cell_type": "markdown",
   "metadata": {},
   "source": [
    "Q3. Is it common to reduce the size of convolutional layers by using pooling layers that can help avoid over fitting?  \n",
    "( ) True  \n",
    "( ) False  \n",
    "\n",
    "The asnwer is true"
   ]
  },
  {
   "cell_type": "markdown",
   "metadata": {},
   "source": [
    "Q4. We use probabilistic language in statistical inference because is not very precise  \n",
    "( ) True  \n",
    "( ) False\n",
    "\n",
    "The answer is false"
   ]
  },
  {
   "cell_type": "markdown",
   "metadata": {},
   "source": [
    "Q5. Is a bike share company using time and weather data to predict the # of bikes being rented at any given hour a regression problem?  \n",
    "( ) True  \n",
    "( ) False \n",
    "\n",
    "The answer is true"
   ]
  },
  {
   "cell_type": "markdown",
   "metadata": {},
   "source": [
    "Q6. When building a keras model do you:  \n",
    "    1) Specify architecture  \n",
    "    2) Compile  \n",
    "    3) Predict  \n",
    "    4) Fit  \n",
    "    \n",
    "( ) True  \n",
    "( ) False  \n",
    "\n",
    "The answer is false"
   ]
  },
  {
   "cell_type": "markdown",
   "metadata": {},
   "source": [
    "Q7. Is Seaborn a visualization library on matplotlib?  \n",
    "( ) True  \n",
    "( ) False  \n",
    "\n",
    "The answer is True"
   ]
  },
  {
   "cell_type": "markdown",
   "metadata": {},
   "source": [
    "# SHORT ANSWER"
   ]
  },
  {
   "cell_type": "markdown",
   "metadata": {},
   "source": [
    "Q1. Compute the ECDF for versicolor data using ecdf( ) and plot it with . marker, 2% margins and labels"
   ]
  },
  {
   "cell_type": "code",
   "execution_count": 3,
   "metadata": {
    "collapsed": true
   },
   "outputs": [],
   "source": [
    "# Compute ECDF for versicolor data: x_vers, y_vers\n",
    "#-------------------------------\n",
    "\n",
    "# Generate plot\n",
    "#-----------------------\n",
    "\n",
    "# Make the margins nice\n",
    "#----------------------\n",
    "\n",
    "# Label the axes\n",
    "#---------------------\n",
    "\n",
    "# Display the plot\n",
    "#---------------------"
   ]
  },
  {
   "cell_type": "markdown",
   "metadata": {},
   "source": [
    "The answer is:"
   ]
  },
  {
   "cell_type": "code",
   "execution_count": null,
   "metadata": {
    "collapsed": true
   },
   "outputs": [],
   "source": [
    "# Compute ECDF for versicolor data: x_vers, y_vers\n",
    "x_vers, y_vers = ecdf(versicolor_petal_length)\n",
    "\n",
    "# Generate plot\n",
    "plt.plot(x_vers,y_vers, marker = '.', linestyle = 'none')\n",
    "\n",
    "# Make the margins nice\n",
    "plt.margins(.02)\n",
    "\n",
    "# Label the axes\n",
    "plt.ylabel('ECDF')\n",
    "plt.xlabel('petal')\n",
    "\n",
    "\n",
    "# Display the plot\n",
    "plt.show()"
   ]
  },
  {
   "cell_type": "markdown",
   "metadata": {},
   "source": [
    "Q2. Create a TruncatedSVD with 20 n_components, a KMeans instance with 6 n_clusters, then create the pipeline consisting of svd and kmeans. Fit the pipeline with a given array articles and predict the labels. Align the label with labels and articles with titles using a dataframe and display by sorted values.  "
   ]
  },
  {
   "cell_type": "code",
   "execution_count": null,
   "metadata": {
    "collapsed": true
   },
   "outputs": [],
   "source": [
    "from sklearn.decomposition import TruncatedSVD\n",
    "from sklearn.cluster import KMeans\n",
    "from sklearn.pipeline import make_pipeline\n",
    "\n",
    "# Import pandas\n",
    "#----------------------------------\n",
    "\n",
    "# Create a TruncatedSVD instance: svd\n",
    "#----------------------------------\n",
    "\n",
    "# Create a KMeans instance: kmeans\n",
    "#----------------------------------\n",
    "\n",
    "# Create a pipeline: pipeline\n",
    "#----------------------------------\n",
    "\n",
    "# Fit the pipeline to articles\n",
    "#----------------------------------\n",
    "\n",
    "# Calculate the cluster labels: labels\n",
    "#----------------------------------\n",
    "\n",
    "# Create a DataFrame aligning labels and titles: df\n",
    "#----------------------------------\n",
    "\n",
    "# Display df sorted by cluster label\n",
    "#----------------------------------\n",
    "\n"
   ]
  },
  {
   "cell_type": "markdown",
   "metadata": {},
   "source": [
    "The answer is:"
   ]
  },
  {
   "cell_type": "code",
   "execution_count": null,
   "metadata": {
    "collapsed": true
   },
   "outputs": [],
   "source": [
    "from sklearn.decomposition import TruncatedSVD\n",
    "from sklearn.cluster import KMeans\n",
    "from sklearn.pipeline import make_pipeline\n",
    "\n",
    "# Import pandas\n",
    "import pandas as pd\n",
    "\n",
    "# Create a TruncatedSVD instance: svd\n",
    "svd = TruncatedSVD(n_components=50)\n",
    "\n",
    "# Create a KMeans instance: kmeans\n",
    "kmeans = KMeans(n_clusters=6)\n",
    "\n",
    "# Create a pipeline: pipeline\n",
    "pipeline = make_pipeline(svd,kmeans)\n",
    "\n",
    "# Fit the pipeline to articles\n",
    "pipeline.fit(articles)\n",
    "\n",
    "# Calculate the cluster labels: labels\n",
    "labels = pipeline.predict(articles)\n",
    "\n",
    "# Create a DataFrame aligning labels and titles: df\n",
    "df = pd.DataFrame({'label': labels, 'article': titles})\n",
    "\n",
    "# Display df sorted by cluster label\n",
    "print(df.sort_values('label'))\n"
   ]
  },
  {
   "cell_type": "markdown",
   "metadata": {},
   "source": [
    "Q3. Define the relu function. Use max to calculate the ouput of te relu function. Apply the relu functon to node 0 to get the node_0_output. Do the same for node 1. Put the two nodes in a numpy array and use that to get the model output. Then print it. "
   ]
  },
  {
   "cell_type": "code",
   "execution_count": null,
   "metadata": {
    "collapsed": true
   },
   "outputs": [],
   "source": [
    "def relu(input):\n",
    "    # Calculate the value for the output of the relu function: output\n",
    "    #----------------------------------\n",
    "    \n",
    "    # Return the value just calculated\n",
    "    #----------------------------------\n",
    "\n",
    "# Calculate node 0 value: node_0_output\n",
    "node_0_input = (input_data * weights[----]).sum()\n",
    "node_0_output = relu(-----)\n",
    "\n",
    "# Calculate node 1 value: node_1_output\n",
    "#----------------------------------\n",
    "\n",
    "# Put node output values into array: hidden_layer_outputs\n",
    "#----------------------------------\n",
    "\n",
    "# Calculate model output (do not apply relu)\n",
    "#----------------------------------\n",
    "\n",
    "# Print model output\n",
    "#----------------------------------"
   ]
  },
  {
   "cell_type": "markdown",
   "metadata": {},
   "source": [
    "The answer is:"
   ]
  },
  {
   "cell_type": "code",
   "execution_count": null,
   "metadata": {
    "collapsed": true
   },
   "outputs": [],
   "source": [
    "def relu(input):\n",
    "    '''Define your relu activation function here'''\n",
    "    # Calculate the value for the output of the relu function: output\n",
    "    output = max(input, 0)\n",
    "    \n",
    "    # Return the value just calculated\n",
    "    return(output)\n",
    "\n",
    "# Calculate node 0 value: node_0_output\n",
    "node_0_input = (input_data * weights['node_0']).sum()\n",
    "node_0_output = relu(node_0_input)\n",
    "\n",
    "# Calculate node 1 value: node_1_output\n",
    "node_1_input = (input_data * weights['node_1']).sum()\n",
    "node_1_output = relu(node_1_input)\n",
    "\n",
    "# Put node output values into array: hidden_layer_outputs\n",
    "hidden_layer_outputs = np.array([node_0_output, node_1_output])\n",
    "\n",
    "# Calculate model output (do not apply relu)\n",
    "model_output = (hidden_layer_outputs * weights['output']).sum()\n",
    "\n",
    "# Print model output\n",
    "print(model_output)"
   ]
  },
  {
   "cell_type": "markdown",
   "metadata": {},
   "source": [
    "Q4. Investment: Using .pv() function, compute the present value of an investment which will yield $10,000 15 years from now at an inflation rate of 3% per year and assign it to investment_1 and print it. Then compute the present value of the same investment, but with a time horizon of only 10 years and an inflation rate of 5% and assign it to investment_2 and print it."
   ]
  },
  {
   "cell_type": "code",
   "execution_count": null,
   "metadata": {
    "collapsed": true
   },
   "outputs": [],
   "source": [
    "# Import numpy as np\n",
    "#----------------------------------\n",
    "\n",
    "# Calculate investment_1\n",
    "investment_1 = np.pv(rate= ---, nper= ----, pmt= ---, fv= ----)\n",
    "\n",
    "# Note that the present value returned is negative, so we multiply the result by -1\n",
    "print(\"Investment 1 is worth \" + str(round(---------)) + \" in today's dollars\")\n",
    "\n",
    "# Calculate investment_2\n",
    "#----------------------------------\n",
    "print(\"Investment 2 is worth \" + ----------- ) + \" in today's dollars\")"
   ]
  },
  {
   "cell_type": "markdown",
   "metadata": {},
   "source": [
    "The answer:"
   ]
  },
  {
   "cell_type": "code",
   "execution_count": null,
   "metadata": {
    "collapsed": true
   },
   "outputs": [],
   "source": [
    "# Import numpy as np\n",
    "import numpy as np\n",
    "\n",
    "# Calculate investment_1\n",
    "investment_1 = np.pv(rate=.03, nper=15, pmt=0, fv=10000)\n",
    "\n",
    "# Note that the present value returned is negative, so we multiply the result by -1\n",
    "print(\"Investment 1 is worth \" + str(round(-investment_1, 2)) + \" in today's dollars\")\n",
    "\n",
    "# Calculate investment_2\n",
    "investment_2 = np.pv(rate=.05, nper=10, pmt=0, fv=10000)\n",
    "print(\"Investment 2 is worth \" + str(round(-investment_2, 2)) + \" in today's dollars\")"
   ]
  },
  {
   "cell_type": "markdown",
   "metadata": {},
   "source": [
    "# Mini DATA Set"
   ]
  },
  {
   "cell_type": "markdown",
   "metadata": {},
   "source": [
    "Q1. Using the Gapminder dataset. Read the 'gapminder.csv'. Create array X_fertility for the 'fertility' feature and array y for the 'life' target variable. Create the prediction space for X_fertility. Reshape y with (-1,1). Fit the regressor to the data (X_fertility and y) and compute its predictions using the .predict() method and the prediction_space array. Compute and print the R^2 score using the .score() method. Plot the regression line."
   ]
  },
  {
   "cell_type": "code",
   "execution_count": null,
   "metadata": {
    "collapsed": true
   },
   "outputs": [],
   "source": [
    "# Import LinearRegression\n",
    "#----------------------------------\n",
    "\n",
    "# Import numpy and pandas\n",
    "#----------------------------------\n",
    "\n",
    "# Read the CSV file into a DataFrame: df\n",
    "#----------------------------------\n",
    "\n",
    "# Create arrays for features and target variable\n",
    "y = df[----]\n",
    "X_fertility = df[----]\n",
    "\n",
    "# Create the regressor: reg\n",
    "#----------------------------------\n",
    "\n",
    "# Create the prediction space\n",
    "prediction_space = np.linspace(min(-------), max(------)).reshape(-1,1)\n",
    "\n",
    "#Reshape y\n",
    "#----------------------------------\n",
    "\n",
    "# Fit the model to the data\n",
    "#----------------------------------\n",
    "\n",
    "# Compute predictions over the prediction space: y_pred\n",
    "#----------------------------------\n",
    "\n",
    "# Print R^2 \n",
    "#----------------------------------\n",
    "\n",
    "# Plot regression line\n",
    "#----------------------------------"
   ]
  },
  {
   "cell_type": "markdown",
   "metadata": {},
   "source": [
    "The answer is:"
   ]
  },
  {
   "cell_type": "code",
   "execution_count": null,
   "metadata": {
    "collapsed": true
   },
   "outputs": [],
   "source": [
    "# Import LinearRegression\n",
    "from sklearn.linear_model import LinearRegression\n",
    "\n",
    "# Import numpy and pandas\n",
    "import numpy as np\n",
    "import pandas as pd\n",
    "\n",
    "# Read the CSV file into a DataFrame: df\n",
    "df = pd.read_csv('gapminder.csv')\n",
    "\n",
    "# Create arrays for features and target variable\n",
    "y = df['life']\n",
    "X_fertility = df['fertility']\n",
    "\n",
    "# Create the regressor: reg\n",
    "reg = LinearRegression()\n",
    "\n",
    "# Create the prediction space\n",
    "prediction_space = np.linspace(min(X_fertility), max(X_fertility)).reshape(-1,1)\n",
    "\n",
    "#Reshape y\n",
    "y = y.reshape(-1,1)\n",
    "\n",
    "# Fit the model to the data\n",
    "reg.fit(X_fertility,y)\n",
    "\n",
    "# Compute predictions over the prediction space: y_pred\n",
    "y_pred = reg.predict(prediction_space)\n",
    "\n",
    "# Print R^2 \n",
    "print(reg.score(X_fertility, y))\n",
    "\n",
    "# Plot regression line\n",
    "plt.plot(prediction_space, y_pred, color='black', linewidth=3)\n",
    "plt.show()\n"
   ]
  }
 ],
 "metadata": {
  "kernelspec": {
   "display_name": "Python 3",
   "language": "python",
   "name": "python3"
  },
  "language_info": {
   "codemirror_mode": {
    "name": "ipython",
    "version": 3
   },
   "file_extension": ".py",
   "mimetype": "text/x-python",
   "name": "python",
   "nbconvert_exporter": "python",
   "pygments_lexer": "ipython3",
   "version": "3.6.3"
  }
 },
 "nbformat": 4,
 "nbformat_minor": 2
}
